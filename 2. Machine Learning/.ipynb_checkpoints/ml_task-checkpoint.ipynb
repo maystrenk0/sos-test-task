{
 "cells": [
  {
   "cell_type": "markdown",
   "id": "d84e4ec0-0495-4b47-9aa9-b8acaa52da2a",
   "metadata": {},
   "source": [
    "# SOS Credit test task\n",
    "*Oleksandr Maistrenko, 2022*"
   ]
  },
  {
   "cell_type": "markdown",
   "id": "99b42804-0b3f-40a6-a53c-c281d8b7f840",
   "metadata": {},
   "source": [
    "Начинаю стандартно с импорта нужных библиотек и загрузки датасета."
   ]
  },
  {
   "cell_type": "code",
   "execution_count": 1,
   "id": "8f646f1b-951c-47c7-8f02-3ca59659e378",
   "metadata": {},
   "outputs": [],
   "source": [
    "import warnings\n",
    "warnings.filterwarnings('ignore')\n",
    "import pandas as pd\n",
    "import numpy as np\n",
    "import matplotlib.pyplot as plt\n",
    "import seaborn as sns\n",
    "from sklearn.model_selection import train_test_split\n",
    "from sklearn.feature_selection import SelectKBest, f_classif\n",
    "from sklearn.preprocessing import RobustScaler\n",
    "from sklearn.linear_model import LogisticRegression\n",
    "from sklearn.metrics import f1_score\n",
    "from tensorflow import keras\n",
    "from tensorflow.keras import layers"
   ]
  },
  {
   "cell_type": "markdown",
   "id": "7f4c5aa3-bc97-40de-8111-2cc8598aa137",
   "metadata": {},
   "source": [
    "## Load data"
   ]
  },
  {
   "cell_type": "code",
   "execution_count": 2,
   "id": "79d62247-46e2-4ec1-be99-0323dbe2e8eb",
   "metadata": {},
   "outputs": [
    {
     "name": "stdout",
     "output_type": "stream",
     "text": [
      "<class 'pandas.core.frame.DataFrame'>\n",
      "RangeIndex: 35311 entries, 0 to 35310\n",
      "Columns: 285 entries, target_flag to credres__credit_req_cnt__org_bnk__more_than_360_days\n",
      "dtypes: datetime64[ns](2), float64(278), object(5)\n",
      "memory usage: 76.8+ MB\n",
      "None\n"
     ]
    }
   ],
   "source": [
    "df = pd.read_excel('test_task_dataset_created_20210611.xlsx')\n",
    "print(df.info())"
   ]
  },
  {
   "cell_type": "markdown",
   "id": "1c88aa06-948b-4d2e-91c8-6a5222431b1b",
   "metadata": {},
   "source": [
    "## Correlation matrix"
   ]
  },
  {
   "cell_type": "markdown",
   "id": "97a333f9-4f94-4693-8877-1485f0398272",
   "metadata": {},
   "source": [
    "Пытаться отрисовать корреляционную матрицу на 285 факторов прямо в jupyter notebook - так себе затея, поэтому я вывел её в ексель, где отформатировал таблицу под heatmap."
   ]
  },
  {
   "cell_type": "code",
   "execution_count": 3,
   "id": "aba78ef2-1603-4ba6-a990-0d3cd08942e6",
   "metadata": {},
   "outputs": [],
   "source": [
    "corr = df.corr()\n",
    "corr.to_excel('corr.xlsx')"
   ]
  },
  {
   "cell_type": "markdown",
   "id": "061e6cdc-6ebc-42da-bd36-51ad73ff0d48",
   "metadata": {},
   "source": [
    "![excel_heatmap](img/excel_heatmap.PNG)"
   ]
  },
  {
   "cell_type": "markdown",
   "id": "b7440948-2ce3-4a15-8d85-84ad7c5bbc92",
   "metadata": {},
   "source": [
    "## Cleaning data"
   ]
  },
  {
   "cell_type": "markdown",
   "id": "f023e2a4-41e2-4bab-8d82-51834fa84f7d",
   "metadata": {},
   "source": [
    "По корреляционной матрице стало видно, что несколько столбиков просто заполнено нулями - их можно убрать из датафрейма. Также я убрал столбики с datetime. Была идея превратить их в TimeStamp, но она не опрадала ожидания. В итоге я оставил только факторы типа float."
   ]
  },
  {
   "cell_type": "code",
   "execution_count": 4,
   "id": "e731440a-21a0-44c7-81b4-9d58f86606dc",
   "metadata": {},
   "outputs": [],
   "source": [
    "df.replace('', np.nan, inplace=True)\n",
    "df.dropna(inplace=True)\n",
    "\n",
    "df.drop(['crdeal_deallife__first_loan_open_date',\n",
    "         'crdeal_deallife__last_loan_open_date',\n",
    "         'crdeal_deallife__first_loan_open_date__donor_mfo',\n",
    "         'crdeal_deallife__last_loan_open_date__donor_mfo',\n",
    "         'crdeal_deallife__first_loan_open_date__donor_bnk',\n",
    "         'crdeal_deallife__last_loan_open_date__donor_bnk',\n",
    "         'crdeal_deallife__loans_cnt__state_sold__opened_lteq_7_days',\n",
    "         'crdeal_deallife__loans_cnt__state_discounted__opened_lteq_7_days',\n",
    "         'crdeal_deallife__loans_cnt__state_discounted__opened_lteq_30_days',\n",
    "         'crdeal_deallife__loans_cnt__state_discounted__opened_lteq_45_days'], axis=1, errors='ignore', inplace=True)\n",
    "\n",
    "Y,categories = pd.factorize(df['target_flag'])\n",
    "X = df.drop('target_flag', axis=1)"
   ]
  },
  {
   "cell_type": "markdown",
   "id": "e3d00596-a060-4005-8fd9-72bcd7f372c4",
   "metadata": {},
   "source": [
    "## Feature selection & train/test splitting"
   ]
  },
  {
   "cell_type": "markdown",
   "id": "c7c41c8c-631c-49a6-a042-a25da8dc59b3",
   "metadata": {},
   "source": [
    "По корреляционной матрице хорошо прослеживаются \"блоки\" факторов с высокой корреляцией между собой. В основном, они имеют одинаковое название и отличаются временным интервалом - 7,30,90 дней итд. Поэтому чтобы не появилась проблема мультиколлинеарности, очень хотелось бы их убрать.\n",
    "\n",
    "К моему большому сожалению, документации или инструкции к датасету в условии не оказалось. Попытка выбросить ненужные столбики аналитеческим путём не увенчалась успехом. Поэтому сокращать количество факторов пришлось при помощи `SelectKBest` методом ANOVA."
   ]
  },
  {
   "cell_type": "code",
   "execution_count": 5,
   "id": "f7ae58e6-70e5-4844-a0c6-6c81cc83647d",
   "metadata": {},
   "outputs": [],
   "source": [
    "k_features = 25\n",
    "\n",
    "X_new = SelectKBest(f_classif, k=k_features).fit_transform(X, Y)"
   ]
  },
  {
   "cell_type": "markdown",
   "id": "ae5193b4-1c9c-4181-a7e1-82af9bbb9b8f",
   "metadata": {},
   "source": [
    "Перед тем как делать трейн тест сплит, я решил посмотреть на распределение классов."
   ]
  },
  {
   "cell_type": "code",
   "execution_count": 6,
   "id": "b80d0cdb-9475-4736-be28-a5ec6ed8fbe0",
   "metadata": {},
   "outputs": [
    {
     "data": {
      "image/png": "[encoded data removed]",
      "text/plain": [
       "<Figure size 432x288 with 1 Axes>"
      ]
     },
     "metadata": {
      "needs_background": "light"
     },
     "output_type": "display_data"
    }
   ],
   "source": [
    "sns.histplot(data=categories[Y]);"
   ]
  },
  {
   "cell_type": "markdown",
   "id": "9dcab743-7827-43d4-a648-1ebe12c9397f",
   "metadata": {},
   "source": [
    "Классы распределены неравномерно, следовательно тренировочная и тестовая выборки должны быть распределены таким же образом - ставлю параметр `stratify`."
   ]
  },
  {
   "cell_type": "code",
   "execution_count": 7,
   "id": "976a89d1-3842-41c0-9dd3-2a5bded77d7f",
   "metadata": {},
   "outputs": [],
   "source": [
    "X_train, X_test, Y_train, Y_test = train_test_split(X_new, Y, test_size=0.25, stratify=Y, random_state=0)"
   ]
  },
  {
   "cell_type": "code",
   "execution_count": 8,
   "id": "02e34cf7-0d73-4930-8919-2e98ffce339a",
   "metadata": {},
   "outputs": [
    {
     "data": {
      "image/png": "[encoded data removed]",
      "text/plain": [
       "<Figure size 432x288 with 1 Axes>"
      ]
     },
     "metadata": {
      "needs_background": "light"
     },
     "output_type": "display_data"
    }
   ],
   "source": [
    "sns.histplot(data=categories[Y_train]);"
   ]
  },
  {
   "cell_type": "code",
   "execution_count": 9,
   "id": "d16428d3-8c26-4c18-bbd5-f82438105772",
   "metadata": {},
   "outputs": [
    {
     "data": {
      "image/png": "[encoded data removed]",
      "text/plain": [
       "<Figure size 432x288 with 1 Axes>"
      ]
     },
     "metadata": {
      "needs_background": "light"
     },
     "output_type": "display_data"
    }
   ],
   "source": [
    "sns.histplot(data=categories[Y_test]);"
   ]
  },
  {
   "cell_type": "markdown",
   "id": "4039d468-8a31-40d9-9a5d-ce3c26b90d49",
   "metadata": {},
   "source": [
    "## Normalizing"
   ]
  },
  {
   "cell_type": "markdown",
   "id": "8b319ef3-3dae-45e5-92d5-2b5b0a3685d7",
   "metadata": {},
   "source": [
    "Далее нормализую данные."
   ]
  },
  {
   "cell_type": "code",
   "execution_count": 10,
   "id": "bf94ae68-c10f-4be0-b6a2-858cf2faebae",
   "metadata": {},
   "outputs": [],
   "source": [
    "scaler = RobustScaler()\n",
    "scaler.fit(X_train)\n",
    "X_train = scaler.transform(X_train)\n",
    "X_test = scaler.transform(X_test)"
   ]
  },
  {
   "cell_type": "markdown",
   "id": "f293b1ea-be6c-40aa-a22b-47d120150ed4",
   "metadata": {},
   "source": [
    "Теперь хочу показать два варианта модели - логистическая регрессия и простая нейросеть на keras."
   ]
  },
  {
   "cell_type": "markdown",
   "id": "e4b2545a-3e9d-4647-b631-2f7821c50d96",
   "metadata": {},
   "source": [
    "## Model # 1 - Logistic Regression"
   ]
  },
  {
   "cell_type": "code",
   "execution_count": 11,
   "id": "300abe59-bc79-430a-9aec-43d1ac661645",
   "metadata": {},
   "outputs": [
    {
     "name": "stdout",
     "output_type": "stream",
     "text": [
      "Accuracy Score: 0.62\n",
      "F1 Score: 0.29\n"
     ]
    }
   ],
   "source": [
    "lr = LogisticRegression(multi_class='multinomial', solver='lbfgs')\n",
    "lr.fit(X_train, Y_train)\n",
    "predictions_logreg = lr.predict(X_test)\n",
    "score_logreg = lr.score(X_test, Y_test)\n",
    "print(f\"Accuracy Score: {score_logreg:.2f}\")\n",
    "print(f\"F1 Score: {f1_score(Y_test, predictions_logreg, average='macro'):.2f}\")"
   ]
  },
  {
   "cell_type": "markdown",
   "id": "d5b4d930-c94d-4cab-a20a-05b015033f70",
   "metadata": {},
   "source": [
    "### Confusion Matrix"
   ]
  },
  {
   "cell_type": "code",
   "execution_count": 12,
   "id": "73f5858b-e2aa-4bab-b5e6-beb08e484e26",
   "metadata": {},
   "outputs": [
    {
     "data": {
      "image/png": "[encoded data removed]",
      "text/plain": [
       "<Figure size 504x504 with 2 Axes>"
      ]
     },
     "metadata": {
      "needs_background": "light"
     },
     "output_type": "display_data"
    }
   ],
   "source": [
    "cf_matrix = pd.crosstab(categories[Y_test],categories[predictions_logreg])\n",
    "fig, ax = plt.subplots(figsize=(7,7))\n",
    "sns.heatmap(cf_matrix, linewidths=.5, annot=True, square=True, cmap='Blues_r', ax=ax, fmt='g')\n",
    "plt.title(f'Accuracy Score: {score_logreg:.2f}', size=15);"
   ]
  },
  {
   "cell_type": "markdown",
   "id": "915eac68-2550-4399-88ed-900403b046a1",
   "metadata": {},
   "source": [
    "## Model # 2 - Keras NN"
   ]
  },
  {
   "cell_type": "markdown",
   "id": "6645fd8d-7d6d-4d27-bf39-d4ff4b77406d",
   "metadata": {},
   "source": [
    "Пришлось остановиться на \"однослойной\" сети - наличие дополнительных слоёв(даже вместе с `Dropout`) приводили к переобучению и падению точности на тестовых данных.<br>А если учесть что softmax регрессия, по сути, является обобщением логистической, то в итоге мы получаем аналогичную модель, но не на библиотеке sklearn, а на keras.\n",
    "\n",
    "Что, несомненно, является большим плюсом - как минимум появляется возможность использования пакетов `tfx` для мониторинга данных, модели, последующего <ins>комфортного</ins> деплоя модели в продакшн итд."
   ]
  },
  {
   "cell_type": "code",
   "execution_count": 13,
   "id": "89353d20-c92c-4919-937d-b70e9a22bb6f",
   "metadata": {},
   "outputs": [],
   "source": [
    "model = keras.Sequential(\n",
    "    [\n",
    "        layers.Dense(3, input_dim=k_features, activation=\"softmax\") \n",
    "    ]\n",
    ")\n",
    "\n",
    "Y_train = keras.utils.to_categorical(Y_train, 3)\n",
    "Y_test = keras.utils.to_categorical(Y_test, 3)"
   ]
  },
  {
   "cell_type": "code",
   "execution_count": 14,
   "id": "771e5414-b466-48b0-a479-9f19fcee4400",
   "metadata": {},
   "outputs": [
    {
     "data": {
      "text/plain": [
       "<keras.callbacks.History at 0x28bfb3faac0>"
      ]
     },
     "execution_count": 14,
     "metadata": {},
     "output_type": "execute_result"
    }
   ],
   "source": [
    "epochs = 100\n",
    "\n",
    "model.compile(loss=\"categorical_crossentropy\", optimizer=\"adam\", metrics=[\"accuracy\"])\n",
    "\n",
    "model.fit(X_train, Y_train, epochs=epochs, validation_split=0.1, verbose=0)"
   ]
  },
  {
   "cell_type": "code",
   "execution_count": 15,
   "id": "a188d9a7-3f6a-4d13-8472-40f0e2d180e9",
   "metadata": {},
   "outputs": [
    {
     "name": "stdout",
     "output_type": "stream",
     "text": [
      "Test accuracy: 0.62\n",
      "Test loss: 0.87\n"
     ]
    }
   ],
   "source": [
    "score_keras = model.evaluate(X_test, Y_test, verbose=0)\n",
    "print(f\"Test accuracy: {score_keras[1]:.2f}\")\n",
    "print(f\"Test loss: {score_keras[0]:.2f}\")"
   ]
  },
  {
   "cell_type": "markdown",
   "id": "d52e59e4-2c29-4c65-9157-a7ba62862f9e",
   "metadata": {
    "tags": []
   },
   "source": [
    "### Confusion Matrix"
   ]
  },
  {
   "cell_type": "code",
   "execution_count": 16,
   "id": "277f56b7-0e26-41c0-ad20-c9c04e002459",
   "metadata": {},
   "outputs": [
    {
     "data": {
      "image/png": "[encoded data removed]",
      "text/plain": [
       "<Figure size 504x504 with 2 Axes>"
      ]
     },
     "metadata": {
      "needs_background": "light"
     },
     "output_type": "display_data"
    }
   ],
   "source": [
    "predictions_keras = model.predict(X_test)\n",
    "cf_matrix = pd.crosstab(categories[Y_test.argmax(axis=1)],categories[predictions_keras.argmax(axis=1)])\n",
    "fig, ax = plt.subplots(figsize=(7,7))\n",
    "sns.heatmap(cf_matrix, linewidths=.5, annot=True, square=True, cmap='Blues_r', ax=ax, fmt='g')\n",
    "plt.title(f'Accuracy Score: {score_keras[1]:.2f}', size=15);"
   ]
  }
 ],
 "metadata": {
  "kernelspec": {
   "display_name": "Python 3",
   "language": "python",
   "name": "python3"
  },
  "language_info": {
   "codemirror_mode": {
    "name": "ipython",
    "version": 3
   },
   "file_extension": ".py",
   "mimetype": "text/x-python",
   "name": "python",
   "nbconvert_exporter": "python",
   "pygments_lexer": "ipython3",
   "version": "3.8.6"
  }
 },
 "nbformat": 4,
 "nbformat_minor": 5
}
